{
 "cells": [
  {
   "cell_type": "code",
   "execution_count": 1,
   "id": "e717ed94-aee3-4001-8e1a-4528aa79a8c8",
   "metadata": {},
   "outputs": [
    {
     "name": "stderr",
     "output_type": "stream",
     "text": [
      "<frozen importlib._bootstrap>:219: RuntimeWarning: scipy._lib.messagestream.MessageStream size changed, may indicate binary incompatibility. Expected 56 from C header, got 64 from PyObject\n"
     ]
    }
   ],
   "source": [
    "import numpy as np\n",
    "\n",
    "# Importing standard Qiskit libraries\n",
    "from qiskit import QuantumCircuit, transpile, Aer, IBMQ\n",
    "from qiskit.tools.jupyter import *\n",
    "from qiskit.visualization import *\n",
    "from ibm_quantum_widgets import *\n",
    "from qiskit.providers.aer import QasmSimulator\n",
    "\n",
    "# Loading your IBM Quantum account(s)\n",
    "provider = IBMQ.load_account()"
   ]
  },
  {
   "cell_type": "code",
   "execution_count": 2,
   "id": "4be28445-f14d-4885-ac4e-12ca3bce9f75",
   "metadata": {},
   "outputs": [],
   "source": [
    "# Exercise5-2\n",
    "# 設計量子程式在量子電腦模擬器上執行上題中的量子線路1000次，顯示其量子位元測量結果各種不同量子態被測量出的次數，並顯示對應的長方圖，最後並說明為何測量結果代表黑箱函數為常數函數。"
   ]
  },
  {
   "cell_type": "code",
   "execution_count": 5,
   "id": "a05b0671-561c-4e12-a519-fdbac5416ebd",
   "metadata": {},
   "outputs": [
    {
     "name": "stdout",
     "output_type": "stream",
     "text": [
      "     ┌───┐      ░       ░ ┌───┐┌─┐      \n",
      "x_0: ┤ H ├──────░───────░─┤ H ├┤M├──────\n",
      "     ├───┤      ░       ░ ├───┤└╥┘┌─┐   \n",
      "x_1: ┤ H ├──────░───────░─┤ H ├─╫─┤M├───\n",
      "     ├───┤      ░       ░ ├───┤ ║ └╥┘┌─┐\n",
      "x_2: ┤ H ├──────░───────░─┤ H ├─╫──╫─┤M├\n",
      "     ├───┤┌───┐ ░ ┌───┐ ░ ├───┤ ║  ║ └╥┘\n",
      "  y: ┤ X ├┤ H ├─░─┤ X ├─░─┤ H ├─╫──╫──╫─\n",
      "     └───┘└───┘ ░ └───┘ ░ └───┘ ║  ║  ║ \n",
      "c: 3/═══════════════════════════╩══╩══╩═\n",
      "                                0  1  2 \n",
      "Counts: {'000': 1000}\n"
     ]
    },
    {
     "data": {
      "image/png": "[encoded data removed]",
      "text/plain": [
       "<Figure size 504x360 with 1 Axes>"
      ]
     },
     "execution_count": 5,
     "metadata": {},
     "output_type": "execute_result"
    }
   ],
   "source": [
    "from qiskit import execute\n",
    "from qiskit.providers.aer import AerSimulator\n",
    "from qiskit.visualization import plot_histogram\n",
    "from qiskit import QuantumRegister,ClassicalRegister,QuantumCircuit\n",
    "qrx = QuantumRegister(3,'x')\n",
    "qry = QuantumRegister(1,'y')\n",
    "cr = ClassicalRegister(3,'c')\n",
    "qc = QuantumCircuit(qrx,qry,cr)\n",
    "qc.h(qrx)\n",
    "qc.x(qry)\n",
    "qc.h(qry)\n",
    "qc.barrier()\n",
    "qc.x(qry)\n",
    "qc.barrier()\n",
    "qc.h(qrx)\n",
    "qc.h(qry)\n",
    "qc.measure(qrx,cr)\n",
    "print(qc)\n",
    "\n",
    "\n",
    "sim=AerSimulator()\n",
    "job=execute(qc, backend=sim, shots=1000)\n",
    "result=job.result()\n",
    "counts=result.get_counts(qc)\n",
    "print(\"Counts:\",counts)\n",
    "plot_histogram(counts)"
   ]
  },
  {
   "cell_type": "code",
   "execution_count": null,
   "id": "7696883a-b439-4a16-bd00-32e96ffb6119",
   "metadata": {},
   "outputs": [],
   "source": []
  }
 ],
 "metadata": {
  "kernelspec": {
   "display_name": "Qiskit v0.35.0 (ipykernel)",
   "language": "python",
   "name": "python3"
  },
  "language_info": {
   "codemirror_mode": {
    "name": "ipython",
    "version": 3
   },
   "file_extension": ".py",
   "mimetype": "text/x-python",
   "name": "python",
   "nbconvert_exporter": "python",
   "pygments_lexer": "ipython3",
   "version": "3.8.13"
  },
  "widgets": {
   "application/vnd.jupyter.widget-state+json": {
    "state": {
     "00c4258745e743509e37bd2ebfeea4aa": {
      "model_module": "@jupyter-widgets/controls",
      "model_module_version": "1.5.0",
      "model_name": "DescriptionStyleModel",
      "state": {
       "description_width": ""
      }
     },
     "0b90e60364ac4abeb44f7cabef31a0ea": {
      "model_module": "@jupyter-widgets/base",
      "model_module_version": "1.2.0",
      "model_name": "LayoutModel",
      "state": {
       "margin": "0px 0px 10px 0px"
      }
     },
     "17ea0615284d437c849e237c075692d6": {
      "model_module": "@jupyter-widgets/controls",
      "model_module_version": "1.5.0",
      "model_name": "ButtonStyleModel",
      "state": {}
     },
     "1a1f464f90a34359bd764d3b010a1ec9": {
      "model_module": "@jupyter-widgets/base",
      "model_module_version": "1.2.0",
      "model_name": "LayoutModel",
      "state": {
       "width": "95px"
      }
     },
     "298771df0ccb41898b8f6612dbf781b9": {
      "model_module": "@jupyter-widgets/controls",
      "model_module_version": "1.5.0",
      "model_name": "DescriptionStyleModel",
      "state": {
       "description_width": ""
      }
     },
     "2bf15dfb5f3b4f5abfb9fe52d2ac2ed3": {
      "model_module": "@jupyter-widgets/controls",
      "model_module_version": "1.5.0",
      "model_name": "HBoxModel",
      "state": {
       "children": [
        "IPY_MODEL_d4f0c9027e034684b05ef7d77e17df4e",
        "IPY_MODEL_a9ad13e907bf4eaca1fc49465259f6cd",
        "IPY_MODEL_68783befa983405dbc44f3194b74ec65",
        "IPY_MODEL_b244659106ef438ea907f0566ab3d895",
        "IPY_MODEL_724f43c480d7405598d453656228bd22"
       ],
       "layout": "IPY_MODEL_70aec82c825043d4ac070be91323cfe0"
      }
     },
     "3e3af0f531a6472f98d0d709b73c3545": {
      "model_module": "@jupyter-widgets/base",
      "model_module_version": "1.2.0",
      "model_name": "LayoutModel",
      "state": {
       "width": "190px"
      }
     },
     "68783befa983405dbc44f3194b74ec65": {
      "model_module": "@jupyter-widgets/controls",
      "model_module_version": "1.5.0",
      "model_name": "HTMLModel",
      "state": {
       "layout": "IPY_MODEL_1a1f464f90a34359bd764d3b010a1ec9",
       "style": "IPY_MODEL_fc1489a7a55049f7819026af68413d6e",
       "value": "<h5>Status</h5>"
      }
     },
     "6aaef971c28c4ea791957e50846380b9": {
      "model_module": "@jupyter-widgets/controls",
      "model_module_version": "1.5.0",
      "model_name": "DescriptionStyleModel",
      "state": {
       "description_width": ""
      }
     },
     "70aec82c825043d4ac070be91323cfe0": {
      "model_module": "@jupyter-widgets/base",
      "model_module_version": "1.2.0",
      "model_name": "LayoutModel",
      "state": {
       "margin": "0px 0px 0px 37px",
       "width": "600px"
      }
     },
     "71f17019c0be487f91ce03b8f936f9cd": {
      "model_module": "@jupyter-widgets/controls",
      "model_module_version": "1.5.0",
      "model_name": "GridBoxModel",
      "state": {
       "children": [
        "IPY_MODEL_7b790d50a8984b7b8fd528171c94e626"
       ],
       "layout": "IPY_MODEL_8bc2aa699b6547e08843e9e6e942b29d"
      }
     },
     "724f43c480d7405598d453656228bd22": {
      "model_module": "@jupyter-widgets/controls",
      "model_module_version": "1.5.0",
      "model_name": "HTMLModel",
      "state": {
       "layout": "IPY_MODEL_d64f51a461d542f0a9343a04557b27f3",
       "style": "IPY_MODEL_c3b9cb7e7e4348549cd7c4427c21c574",
       "value": "<h5>Message</h5>"
      }
     },
     "7b790d50a8984b7b8fd528171c94e626": {
      "model_module": "@jupyter-widgets/controls",
      "model_module_version": "1.5.0",
      "model_name": "ButtonModel",
      "state": {
       "button_style": "primary",
       "description": "Clear",
       "layout": "IPY_MODEL_fdef596f176048f7828d177f987ed74f",
       "style": "IPY_MODEL_17ea0615284d437c849e237c075692d6"
      }
     },
     "8bc2aa699b6547e08843e9e6e942b29d": {
      "model_module": "@jupyter-widgets/base",
      "model_module_version": "1.2.0",
      "model_name": "LayoutModel",
      "state": {
       "grid_template_areas": "\n                                       \". . . . right \"\n                                        ",
       "grid_template_columns": "20% 20% 20% 20% 20%",
       "width": "100%"
      }
     },
     "a1955172c42d46729d459ed1b3b1a452": {
      "model_module": "@jupyter-widgets/base",
      "model_module_version": "1.2.0",
      "model_name": "LayoutModel",
      "state": {
       "width": "145px"
      }
     },
     "a9ad13e907bf4eaca1fc49465259f6cd": {
      "model_module": "@jupyter-widgets/controls",
      "model_module_version": "1.5.0",
      "model_name": "HTMLModel",
      "state": {
       "layout": "IPY_MODEL_a1955172c42d46729d459ed1b3b1a452",
       "style": "IPY_MODEL_dd000444b10a4722a86091dd6585fd9a",
       "value": "<h5>Backend</h5>"
      }
     },
     "b244659106ef438ea907f0566ab3d895": {
      "model_module": "@jupyter-widgets/controls",
      "model_module_version": "1.5.0",
      "model_name": "HTMLModel",
      "state": {
       "layout": "IPY_MODEL_f4f11251af3f4c9d8fde71c67a3b5dcb",
       "style": "IPY_MODEL_00c4258745e743509e37bd2ebfeea4aa",
       "value": "<h5>Queue</h5>"
      }
     },
     "c3b9cb7e7e4348549cd7c4427c21c574": {
      "model_module": "@jupyter-widgets/controls",
      "model_module_version": "1.5.0",
      "model_name": "DescriptionStyleModel",
      "state": {
       "description_width": ""
      }
     },
     "d4f0c9027e034684b05ef7d77e17df4e": {
      "model_module": "@jupyter-widgets/controls",
      "model_module_version": "1.5.0",
      "model_name": "HTMLModel",
      "state": {
       "layout": "IPY_MODEL_3e3af0f531a6472f98d0d709b73c3545",
       "style": "IPY_MODEL_6aaef971c28c4ea791957e50846380b9",
       "value": "<h5>Job ID</h5>"
      }
     },
     "d64f51a461d542f0a9343a04557b27f3": {
      "model_module": "@jupyter-widgets/base",
      "model_module_version": "1.2.0",
      "model_name": "LayoutModel",
      "state": {}
     },
     "d6aa58b0f7724ae2b9cef65db21b3fc3": {
      "model_module": "@jupyter-widgets/controls",
      "model_module_version": "1.5.0",
      "model_name": "HTMLModel",
      "state": {
       "layout": "IPY_MODEL_0b90e60364ac4abeb44f7cabef31a0ea",
       "style": "IPY_MODEL_298771df0ccb41898b8f6612dbf781b9",
       "value": "<p style='font-family: IBM Plex Sans, Arial, Helvetica, sans-serif; font-size: 20px; font-weight: medium;'>Circuit Properties</p>"
      }
     },
     "dd000444b10a4722a86091dd6585fd9a": {
      "model_module": "@jupyter-widgets/controls",
      "model_module_version": "1.5.0",
      "model_name": "DescriptionStyleModel",
      "state": {
       "description_width": ""
      }
     },
     "f4f11251af3f4c9d8fde71c67a3b5dcb": {
      "model_module": "@jupyter-widgets/base",
      "model_module_version": "1.2.0",
      "model_name": "LayoutModel",
      "state": {
       "width": "70px"
      }
     },
     "fc1489a7a55049f7819026af68413d6e": {
      "model_module": "@jupyter-widgets/controls",
      "model_module_version": "1.5.0",
      "model_name": "DescriptionStyleModel",
      "state": {
       "description_width": ""
      }
     },
     "fdef596f176048f7828d177f987ed74f": {
      "model_module": "@jupyter-widgets/base",
      "model_module_version": "1.2.0",
      "model_name": "LayoutModel",
      "state": {
       "grid_area": "right",
       "padding": "0px 0px 0px 0px",
       "width": "70px"
      }
     }
    },
    "version_major": 2,
    "version_minor": 0
   }
  }
 },
 "nbformat": 4,
 "nbformat_minor": 5
}
