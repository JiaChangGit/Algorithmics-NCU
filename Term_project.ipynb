{
  "nbformat": 4,
  "nbformat_minor": 0,
  "metadata": {
    "colab": {
      "name": "Term project.ipynb",
      "provenance": [],
      "collapsed_sections": []
    },
    "kernelspec": {
      "name": "python3",
      "display_name": "Python 3"
    },
    "language_info": {
      "name": "python"
    }
  },
  "cells": [
    {
      "cell_type": "code",
      "source": [
        "!pip install qiskit\n",
        "from qiskit import IBMQ, Aer\n",
        "from qiskit import QuantumCircuit, execute\n",
        "from qiskit.visualization import plot_histogram"
      ],
      "metadata": {
        "colab": {
          "base_uri": "https://localhost:8080/"
        },
        "id": "ZmT-Kmg25B7Y",
        "outputId": "0aaa4ee0-4bb3-468b-eb72-dc5b526667eb"
      },
      "execution_count": null,
      "outputs": [
        {
          "output_type": "stream",
          "name": "stdout",
          "text": [
            "Looking in indexes: https://pypi.org/simple, https://us-python.pkg.dev/colab-wheels/public/simple/\n",
            "Requirement already satisfied: qiskit in /usr/local/lib/python3.7/dist-packages (0.36.2)\n",
            "Requirement already satisfied: qiskit-ignis==0.7.1 in /usr/local/lib/python3.7/dist-packages (from qiskit) (0.7.1)\n",
            "Requirement already satisfied: qiskit-aer==0.10.4 in /usr/local/lib/python3.7/dist-packages (from qiskit) (0.10.4)\n",
            "Requirement already satisfied: qiskit-terra==0.20.2 in /usr/local/lib/python3.7/dist-packages (from qiskit) (0.20.2)\n",
            "Requirement already satisfied: qiskit-ibmq-provider==0.19.1 in /usr/local/lib/python3.7/dist-packages (from qiskit) (0.19.1)\n",
            "Requirement already satisfied: numpy>=1.16.3 in /usr/local/lib/python3.7/dist-packages (from qiskit-aer==0.10.4->qiskit) (1.21.6)\n",
            "Requirement already satisfied: scipy>=1.0 in /usr/local/lib/python3.7/dist-packages (from qiskit-aer==0.10.4->qiskit) (1.7.3)\n",
            "Requirement already satisfied: websockets>=10.0 in /usr/local/lib/python3.7/dist-packages (from qiskit-ibmq-provider==0.19.1->qiskit) (10.3)\n",
            "Requirement already satisfied: websocket-client>=1.0.1 in /usr/local/lib/python3.7/dist-packages (from qiskit-ibmq-provider==0.19.1->qiskit) (1.3.2)\n",
            "Requirement already satisfied: requests-ntlm>=1.1.0 in /usr/local/lib/python3.7/dist-packages (from qiskit-ibmq-provider==0.19.1->qiskit) (1.1.0)\n",
            "Requirement already satisfied: python-dateutil>=2.8.0 in /usr/local/lib/python3.7/dist-packages (from qiskit-ibmq-provider==0.19.1->qiskit) (2.8.2)\n",
            "Requirement already satisfied: requests>=2.19 in /usr/local/lib/python3.7/dist-packages (from qiskit-ibmq-provider==0.19.1->qiskit) (2.23.0)\n",
            "Requirement already satisfied: urllib3>=1.21.1 in /usr/local/lib/python3.7/dist-packages (from qiskit-ibmq-provider==0.19.1->qiskit) (1.24.3)\n",
            "Requirement already satisfied: retworkx>=0.8.0 in /usr/local/lib/python3.7/dist-packages (from qiskit-ignis==0.7.1->qiskit) (0.11.0)\n",
            "Requirement already satisfied: setuptools>=40.1.0 in /usr/local/lib/python3.7/dist-packages (from qiskit-ignis==0.7.1->qiskit) (57.4.0)\n",
            "Requirement already satisfied: tweedledum<2.0,>=1.1 in /usr/local/lib/python3.7/dist-packages (from qiskit-terra==0.20.2->qiskit) (1.1.1)\n",
            "Requirement already satisfied: dill>=0.3 in /usr/local/lib/python3.7/dist-packages (from qiskit-terra==0.20.2->qiskit) (0.3.5.1)\n",
            "Requirement already satisfied: ply>=3.10 in /usr/local/lib/python3.7/dist-packages (from qiskit-terra==0.20.2->qiskit) (3.11)\n",
            "Requirement already satisfied: sympy>=1.3 in /usr/local/lib/python3.7/dist-packages (from qiskit-terra==0.20.2->qiskit) (1.7.1)\n",
            "Requirement already satisfied: python-constraint>=1.4 in /usr/local/lib/python3.7/dist-packages (from qiskit-terra==0.20.2->qiskit) (1.4.0)\n",
            "Requirement already satisfied: symengine>=0.9 in /usr/local/lib/python3.7/dist-packages (from qiskit-terra==0.20.2->qiskit) (0.9.2)\n",
            "Requirement already satisfied: stevedore>=3.0.0 in /usr/local/lib/python3.7/dist-packages (from qiskit-terra==0.20.2->qiskit) (3.5.0)\n",
            "Requirement already satisfied: psutil>=5 in /usr/local/lib/python3.7/dist-packages (from qiskit-terra==0.20.2->qiskit) (5.4.8)\n",
            "Requirement already satisfied: six>=1.5 in /usr/local/lib/python3.7/dist-packages (from python-dateutil>=2.8.0->qiskit-ibmq-provider==0.19.1->qiskit) (1.15.0)\n",
            "Requirement already satisfied: idna<3,>=2.5 in /usr/local/lib/python3.7/dist-packages (from requests>=2.19->qiskit-ibmq-provider==0.19.1->qiskit) (2.10)\n",
            "Requirement already satisfied: chardet<4,>=3.0.2 in /usr/local/lib/python3.7/dist-packages (from requests>=2.19->qiskit-ibmq-provider==0.19.1->qiskit) (3.0.4)\n",
            "Requirement already satisfied: certifi>=2017.4.17 in /usr/local/lib/python3.7/dist-packages (from requests>=2.19->qiskit-ibmq-provider==0.19.1->qiskit) (2022.5.18.1)\n",
            "Requirement already satisfied: ntlm-auth>=1.0.2 in /usr/local/lib/python3.7/dist-packages (from requests-ntlm>=1.1.0->qiskit-ibmq-provider==0.19.1->qiskit) (1.5.0)\n",
            "Requirement already satisfied: cryptography>=1.3 in /usr/local/lib/python3.7/dist-packages (from requests-ntlm>=1.1.0->qiskit-ibmq-provider==0.19.1->qiskit) (37.0.2)\n",
            "Requirement already satisfied: cffi>=1.12 in /usr/local/lib/python3.7/dist-packages (from cryptography>=1.3->requests-ntlm>=1.1.0->qiskit-ibmq-provider==0.19.1->qiskit) (1.15.0)\n",
            "Requirement already satisfied: pycparser in /usr/local/lib/python3.7/dist-packages (from cffi>=1.12->cryptography>=1.3->requests-ntlm>=1.1.0->qiskit-ibmq-provider==0.19.1->qiskit) (2.21)\n",
            "Requirement already satisfied: pbr!=2.1.0,>=2.0.0 in /usr/local/lib/python3.7/dist-packages (from stevedore>=3.0.0->qiskit-terra==0.20.2->qiskit) (5.9.0)\n",
            "Requirement already satisfied: importlib-metadata>=1.7.0 in /usr/local/lib/python3.7/dist-packages (from stevedore>=3.0.0->qiskit-terra==0.20.2->qiskit) (4.11.3)\n",
            "Requirement already satisfied: zipp>=0.5 in /usr/local/lib/python3.7/dist-packages (from importlib-metadata>=1.7.0->stevedore>=3.0.0->qiskit-terra==0.20.2->qiskit) (3.8.0)\n",
            "Requirement already satisfied: typing-extensions>=3.6.4 in /usr/local/lib/python3.7/dist-packages (from importlib-metadata>=1.7.0->stevedore>=3.0.0->qiskit-terra==0.20.2->qiskit) (4.2.0)\n",
            "Requirement already satisfied: mpmath>=0.19 in /usr/local/lib/python3.7/dist-packages (from sympy>=1.3->qiskit-terra==0.20.2->qiskit) (1.2.1)\n"
          ]
        }
      ]
    },
    {
      "cell_type": "code",
      "execution_count": null,
      "metadata": {
        "colab": {
          "base_uri": "https://localhost:8080/",
          "height": 125
        },
        "id": "fArH9DzP4en2",
        "outputId": "465967c4-7847-4783-f0b2-e8847c23c6f3"
      },
      "outputs": [
        {
          "output_type": "execute_result",
          "data": {
            "text/plain": [
              "     ┌───┐      ░       ░ ┌───┐┌─┐\n",
              "q_0: ┤ H ├──────░───────░─┤ H ├┤M├\n",
              "     ├───┤┌───┐ ░ ┌───┐ ░ └───┘└╥┘\n",
              "q_1: ┤ X ├┤ H ├─░─┤ I ├─░───────╫─\n",
              "     └───┘└───┘ ░ └───┘ ░       ║ \n",
              "c: 1/═══════════════════════════╩═\n",
              "                                0 "
            ],
            "text/html": [
              "<pre style=\"word-wrap: normal;white-space: pre;background: #fff0;line-height: 1.1;font-family: &quot;Courier New&quot;,Courier,monospace\">     ┌───┐      ░       ░ ┌───┐┌─┐\n",
              "q_0: ┤ H ├──────░───────░─┤ H ├┤M├\n",
              "     ├───┤┌───┐ ░ ┌───┐ ░ └───┘└╥┘\n",
              "q_1: ┤ X ├┤ H ├─░─┤ I ├─░───────╫─\n",
              "     └───┘└───┘ ░ └───┘ ░       ║ \n",
              "c: 1/═══════════════════════════╩═\n",
              "                                0 </pre>"
            ]
          },
          "metadata": {},
          "execution_count": 5
        }
      ],
      "source": [
        "def Deutsch_Oracle(qc,oracle_type):\n",
        "    if oracle_type == 1: #Constant-0函數\n",
        "        qc.id(1) \n",
        "    if oracle_type == 2: #Constant-1函數\n",
        "        qc.x(1)\n",
        "    if oracle_type == 3: #Identity函數\n",
        "        qc.cx(0,1)\n",
        "    if oracle_type == 4: #Not函數\n",
        "        qc.x(0)\n",
        "        qc.cx(0, 1)\n",
        "        qc.x(0)\n",
        "qc = QuantumCircuit(2, 1)\n",
        "qc.x(1)\n",
        "qc.h(0)\n",
        "qc.h(1)\n",
        "qc.barrier()\n",
        "oracle_type = 1\n",
        "Deutsch_Oracle(qc, oracle_type)\n",
        "qc.barrier()\n",
        "qc.h(0)\n",
        "qc.measure(0, 0)\n",
        "qc.draw()"
      ]
    },
    {
      "cell_type": "code",
      "source": [
        "sim = Aer.get_backend('aer_simulator')\n",
        "job = execute(qc, sim, shots=1000)\n",
        "result = job.result()\n",
        "counts = result.get_counts()\n",
        "plot_histogram(counts)"
      ],
      "metadata": {
        "colab": {
          "base_uri": "https://localhost:8080/",
          "height": 323
        },
        "id": "BwjS2Fmm5MpL",
        "outputId": "9984191f-bc93-47df-cc3b-d1daf09c3697"
      },
      "execution_count": null,
      "outputs": [
        {
          "output_type": "execute_result",
          "data": {
            "text/plain": [
              "<Figure size 504x360 with 1 Axes>"
            ],
            "image/png": "[encoded data removed]"
          },
          "metadata": {},
          "execution_count": 6
        }
      ]
    },
    {
      "cell_type": "code",
      "source": [
        "def Deutsch_Oracle(qc,oracle_type):\n",
        "    if oracle_type == 1: #Constant-0函數\n",
        "        qc.id(1) \n",
        "    if oracle_type == 2: #Constant-1函數\n",
        "        qc.x(1)\n",
        "    if oracle_type == 3: #Identity函數\n",
        "        qc.cx(0,1)\n",
        "    if oracle_type == 4: #Not函數\n",
        "        qc.x(0)\n",
        "        qc.cx(0, 1)\n",
        "        qc.x(0)\n",
        "qc = QuantumCircuit(2, 1)\n",
        "qc.x(1)\n",
        "qc.h(0)\n",
        "qc.h(1)\n",
        "qc.barrier()\n",
        "oracle_type = 2\n",
        "Deutsch_Oracle(qc, oracle_type)\n",
        "qc.barrier()\n",
        "qc.h(0)\n",
        "qc.measure(0, 0)\n",
        "qc.draw()"
      ],
      "metadata": {
        "colab": {
          "base_uri": "https://localhost:8080/",
          "height": 125
        },
        "id": "kdHMzCx458IA",
        "outputId": "a2356b84-0d6d-4314-e137-0562dd29a305"
      },
      "execution_count": null,
      "outputs": [
        {
          "output_type": "execute_result",
          "data": {
            "text/plain": [
              "     ┌───┐      ░       ░ ┌───┐┌─┐\n",
              "q_0: ┤ H ├──────░───────░─┤ H ├┤M├\n",
              "     ├───┤┌───┐ ░ ┌───┐ ░ └───┘└╥┘\n",
              "q_1: ┤ X ├┤ H ├─░─┤ X ├─░───────╫─\n",
              "     └───┘└───┘ ░ └───┘ ░       ║ \n",
              "c: 1/═══════════════════════════╩═\n",
              "                                0 "
            ],
            "text/html": [
              "<pre style=\"word-wrap: normal;white-space: pre;background: #fff0;line-height: 1.1;font-family: &quot;Courier New&quot;,Courier,monospace\">     ┌───┐      ░       ░ ┌───┐┌─┐\n",
              "q_0: ┤ H ├──────░───────░─┤ H ├┤M├\n",
              "     ├───┤┌───┐ ░ ┌───┐ ░ └───┘└╥┘\n",
              "q_1: ┤ X ├┤ H ├─░─┤ X ├─░───────╫─\n",
              "     └───┘└───┘ ░ └───┘ ░       ║ \n",
              "c: 1/═══════════════════════════╩═\n",
              "                                0 </pre>"
            ]
          },
          "metadata": {},
          "execution_count": 7
        }
      ]
    },
    {
      "cell_type": "code",
      "source": [
        "sim = Aer.get_backend('aer_simulator')\n",
        "job = execute(qc, sim, shots=1000)\n",
        "result = job.result()\n",
        "counts = result.get_counts()\n",
        "plot_histogram(counts)"
      ],
      "metadata": {
        "colab": {
          "base_uri": "https://localhost:8080/",
          "height": 323
        },
        "id": "KJiShHg45M0w",
        "outputId": "a6ebb698-1997-4994-8605-dd744d9ce3e4"
      },
      "execution_count": null,
      "outputs": [
        {
          "output_type": "execute_result",
          "data": {
            "text/plain": [
              "<Figure size 504x360 with 1 Axes>"
            ],
            "image/png": "[encoded data removed]"
          },
          "metadata": {},
          "execution_count": 8
        }
      ]
    },
    {
      "cell_type": "code",
      "source": [
        "def Deutsch_Oracle(qc,oracle_type):\n",
        "    if oracle_type == 1: #Constant-0函數\n",
        "        qc.id(1) \n",
        "    if oracle_type == 2: #Constant-1函數\n",
        "        qc.x(1)\n",
        "    if oracle_type == 3: #Identity函數\n",
        "        qc.cx(0,1)\n",
        "    if oracle_type == 4: #Not函數\n",
        "        qc.x(0)\n",
        "        qc.cx(0, 1)\n",
        "        qc.x(0)\n",
        "qc = QuantumCircuit(2, 1)\n",
        "qc.x(1)\n",
        "qc.h(0)\n",
        "qc.h(1)\n",
        "qc.barrier()\n",
        "oracle_type = 3\n",
        "Deutsch_Oracle(qc, oracle_type)\n",
        "qc.barrier()\n",
        "qc.h(0)\n",
        "qc.measure(0, 0)\n",
        "qc.draw()"
      ],
      "metadata": {
        "colab": {
          "base_uri": "https://localhost:8080/",
          "height": 125
        },
        "id": "KdtQeIVW5-jk",
        "outputId": "0add13fa-9e4e-4561-9ea4-1260a94c78fd"
      },
      "execution_count": null,
      "outputs": [
        {
          "output_type": "execute_result",
          "data": {
            "text/plain": [
              "     ┌───┐      ░       ░ ┌───┐┌─┐\n",
              "q_0: ┤ H ├──────░───■───░─┤ H ├┤M├\n",
              "     ├───┤┌───┐ ░ ┌─┴─┐ ░ └───┘└╥┘\n",
              "q_1: ┤ X ├┤ H ├─░─┤ X ├─░───────╫─\n",
              "     └───┘└───┘ ░ └───┘ ░       ║ \n",
              "c: 1/═══════════════════════════╩═\n",
              "                                0 "
            ],
            "text/html": [
              "<pre style=\"word-wrap: normal;white-space: pre;background: #fff0;line-height: 1.1;font-family: &quot;Courier New&quot;,Courier,monospace\">     ┌───┐      ░       ░ ┌───┐┌─┐\n",
              "q_0: ┤ H ├──────░───■───░─┤ H ├┤M├\n",
              "     ├───┤┌───┐ ░ ┌─┴─┐ ░ └───┘└╥┘\n",
              "q_1: ┤ X ├┤ H ├─░─┤ X ├─░───────╫─\n",
              "     └───┘└───┘ ░ └───┘ ░       ║ \n",
              "c: 1/═══════════════════════════╩═\n",
              "                                0 </pre>"
            ]
          },
          "metadata": {},
          "execution_count": 9
        }
      ]
    },
    {
      "cell_type": "code",
      "source": [
        "sim = Aer.get_backend('aer_simulator')\n",
        "job = execute(qc, sim, shots=1000)\n",
        "result = job.result()\n",
        "counts = result.get_counts()\n",
        "plot_histogram(counts)"
      ],
      "metadata": {
        "colab": {
          "base_uri": "https://localhost:8080/",
          "height": 323
        },
        "id": "SlVnTfzw5M8J",
        "outputId": "2da5fad0-2cc3-4d0f-f8dc-1b7fa8531331"
      },
      "execution_count": null,
      "outputs": [
        {
          "output_type": "execute_result",
          "data": {
            "text/plain": [
              "<Figure size 504x360 with 1 Axes>"
            ],
            "image/png": "[encoded data removed]"
          },
          "metadata": {},
          "execution_count": 10
        }
      ]
    },
    {
      "cell_type": "code",
      "source": [
        "def Deutsch_Oracle(qc,oracle_type):\n",
        "    if oracle_type == 1: #Constant-0函數\n",
        "        qc.id(1) \n",
        "    if oracle_type == 2: #Constant-1函數\n",
        "        qc.x(1)\n",
        "    if oracle_type == 3: #Identity函數\n",
        "        qc.cx(0,1)\n",
        "    if oracle_type == 4: #Not函數\n",
        "        qc.x(0)\n",
        "        qc.cx(0, 1)\n",
        "        qc.x(0)\n",
        "qc = QuantumCircuit(2, 1)\n",
        "qc.x(1)\n",
        "qc.h(0)\n",
        "qc.h(1)\n",
        "qc.barrier()\n",
        "oracle_type = 4\n",
        "Deutsch_Oracle(qc, oracle_type)\n",
        "qc.barrier()\n",
        "qc.h(0)\n",
        "qc.measure(0, 0)\n",
        "qc.draw()"
      ],
      "metadata": {
        "colab": {
          "base_uri": "https://localhost:8080/",
          "height": 125
        },
        "id": "ed_1bak96A_A",
        "outputId": "8dcf4bb0-9d7b-4a0a-9391-52fa16f3824c"
      },
      "execution_count": null,
      "outputs": [
        {
          "output_type": "execute_result",
          "data": {
            "text/plain": [
              "     ┌───┐      ░ ┌───┐     ┌───┐ ░ ┌───┐┌─┐\n",
              "q_0: ┤ H ├──────░─┤ X ├──■──┤ X ├─░─┤ H ├┤M├\n",
              "     ├───┤┌───┐ ░ └───┘┌─┴─┐└───┘ ░ └───┘└╥┘\n",
              "q_1: ┤ X ├┤ H ├─░──────┤ X ├──────░───────╫─\n",
              "     └───┘└───┘ ░      └───┘      ░       ║ \n",
              "c: 1/═════════════════════════════════════╩═\n",
              "                                          0 "
            ],
            "text/html": [
              "<pre style=\"word-wrap: normal;white-space: pre;background: #fff0;line-height: 1.1;font-family: &quot;Courier New&quot;,Courier,monospace\">     ┌───┐      ░ ┌───┐     ┌───┐ ░ ┌───┐┌─┐\n",
              "q_0: ┤ H ├──────░─┤ X ├──■──┤ X ├─░─┤ H ├┤M├\n",
              "     ├───┤┌───┐ ░ └───┘┌─┴─┐└───┘ ░ └───┘└╥┘\n",
              "q_1: ┤ X ├┤ H ├─░──────┤ X ├──────░───────╫─\n",
              "     └───┘└───┘ ░      └───┘      ░       ║ \n",
              "c: 1/═════════════════════════════════════╩═\n",
              "                                          0 </pre>"
            ]
          },
          "metadata": {},
          "execution_count": 11
        }
      ]
    },
    {
      "cell_type": "code",
      "source": [
        "sim = Aer.get_backend('aer_simulator')\n",
        "job = execute(qc, sim, shots=1000)\n",
        "result = job.result()\n",
        "counts = result.get_counts()\n",
        "plot_histogram(counts)"
      ],
      "metadata": {
        "colab": {
          "base_uri": "https://localhost:8080/",
          "height": 323
        },
        "id": "27uPq3ce5NBq",
        "outputId": "54ab8cc9-b637-4a95-c81e-0289ee71ef9c"
      },
      "execution_count": null,
      "outputs": [
        {
          "output_type": "execute_result",
          "data": {
            "text/plain": [
              "<Figure size 504x360 with 1 Axes>"
            ],
            "image/png": "[encoded data removed]"
          },
          "metadata": {},
          "execution_count": 12
        }
      ]
    }
  ]
}