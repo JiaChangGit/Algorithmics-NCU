{
 "cells": [
  {
   "cell_type": "code",
   "execution_count": 1,
   "id": "bf6cd159-35b3-4bc3-bad2-1fb33eefd6c1",
   "metadata": {
    "collapsed": true,
    "jupyter": {
     "outputs_hidden": true
    },
    "tags": []
   },
   "outputs": [
    {
     "name": "stderr",
     "output_type": "stream",
     "text": [
      "/opt/conda/lib/python3.8/site-packages/numpy/core/getlimits.py:499: UserWarning: The value of the smallest subnormal for <class 'numpy.float64'> type is zero.\n",
      "  setattr(self, word, getattr(machar, word).flat[0])\n",
      "/opt/conda/lib/python3.8/site-packages/numpy/core/getlimits.py:89: UserWarning: The value of the smallest subnormal for <class 'numpy.float64'> type is zero.\n",
      "  return self._float_to_str(self.smallest_subnormal)\n",
      "/opt/conda/lib/python3.8/site-packages/numpy/core/getlimits.py:499: UserWarning: The value of the smallest subnormal for <class 'numpy.float32'> type is zero.\n",
      "  setattr(self, word, getattr(machar, word).flat[0])\n",
      "/opt/conda/lib/python3.8/site-packages/numpy/core/getlimits.py:89: UserWarning: The value of the smallest subnormal for <class 'numpy.float32'> type is zero.\n",
      "  return self._float_to_str(self.smallest_subnormal)\n",
      "<frozen importlib._bootstrap>:219: RuntimeWarning: scipy._lib.messagestream.MessageStream size changed, may indicate binary incompatibility. Expected 56 from C header, got 64 from PyObject\n"
     ]
    }
   ],
   "source": [
    "import numpy as np\n",
    "\n",
    "# Importing standard Qiskit libraries\n",
    "from qiskit import QuantumCircuit, transpile, Aer, IBMQ\n",
    "from qiskit.tools.jupyter import *\n",
    "from qiskit.visualization import *\n",
    "from ibm_quantum_widgets import *\n",
    "from qiskit.providers.aer import QasmSimulator\n",
    "\n",
    "# Loading your IBM Quantum account(s)\n",
    "provider = IBMQ.load_account()"
   ]
  },
  {
   "cell_type": "code",
   "execution_count": 3,
   "id": "b253f3a5-f3ee-47fb-90fb-044d12700d28",
   "metadata": {},
   "outputs": [
    {
     "data": {
      "text/plain": [
       "'\\n請寫出量子程式用以建構一個包含3個量子位元及3個古典位元的量子線路物件，其中量子位元均進行測量並儲存\\n於古典位元中。以文字模式顯示量子線路，然後任意選擇一部IBM Q量子電腦執行這個量子線路1000次，最後顯\\n示所有量子位元測量出的量子狀態的計數次數。\\n'"
      ]
     },
     "execution_count": 3,
     "metadata": {},
     "output_type": "execute_result"
    }
   ],
   "source": [
    "# Exercise 1-5\n",
    "\n",
    "\"\"\"\n",
    "請寫出量子程式用以建構一個包含3個量子位元及3個古典位元的量子線路物件，其中量子位元均進行測量並儲存\n",
    "於古典位元中。以文字模式顯示量子線路，然後任意選擇一部IBM Q量子電腦執行這個量子線路1000次，最後顯\n",
    "示所有量子位元測量出的量子狀態的計數次數。\n",
    "\"\"\""
   ]
  },
  {
   "cell_type": "code",
   "execution_count": 2,
   "id": "32dccba6-e796-4f80-a6b8-04a438a9d272",
   "metadata": {},
   "outputs": [
    {
     "name": "stdout",
     "output_type": "stream",
     "text": [
      "     ┌─┐\n",
      "q_0: ┤M├\n",
      "     └╥┘\n",
      "q_1: ─╫─\n",
      "      ║ \n",
      "q_2: ─╫─\n",
      "      ║ \n",
      "c: 3/═╩═\n",
      "      0 \n",
      "Job Status: job has successfully run\n",
      "Total counts for qubit states are: {'000': 989, '001': 11}\n"
     ]
    }
   ],
   "source": [
    "from qiskit import QuantumCircuit, IBMQ, execute\n",
    "from qiskit.tools.monitor import job_monitor\n",
    "qc = QuantumCircuit(3, 3)\n",
    "qc.measure([0], [0])\n",
    "print(qc)\n",
    "\n",
    "provider=IBMQ.get_provider('ibm-q')\n",
    "qcomp=provider.get_backend('ibmq_manila')\n",
    "job=execute(qc, backend=qcomp, shots=1000)\n",
    "job_monitor(job)\n",
    "result = job.result()\n",
    "counts = result.get_counts(qc)\n",
    "print(\"Total counts for qubit states are:\",counts)"
   ]
  },
  {
   "cell_type": "code",
   "execution_count": 1,
   "id": "d16a7243-5c91-4d60-a171-e8b8f12a492d",
   "metadata": {},
   "outputs": [
    {
     "data": {
      "text/plain": [
       "'\\n上圖顯示: \\n\\n000: 989次\\n\\n001: 11次\\n'"
      ]
     },
     "execution_count": 1,
     "metadata": {},
     "output_type": "execute_result"
    }
   ],
   "source": [
    "\"\"\"\n",
    "上圖顯示: \n",
    "\n",
    "000: 989次\n",
    "\n",
    "001: 11次\n",
    "\"\"\""
   ]
  },
  {
   "cell_type": "code",
   "execution_count": null,
   "id": "e04f9c3f-4515-45e2-b09c-2e5ad6e36e50",
   "metadata": {},
   "outputs": [],
   "source": []
  }
 ],
 "metadata": {
  "kernelspec": {
   "display_name": "Qiskit v0.35.0 (ipykernel)",
   "language": "python",
   "name": "python3"
  },
  "language_info": {
   "codemirror_mode": {
    "name": "ipython",
    "version": 3
   },
   "file_extension": ".py",
   "mimetype": "text/x-python",
   "name": "python",
   "nbconvert_exporter": "python",
   "pygments_lexer": "ipython3",
   "version": "3.8.13"
  },
  "widgets": {
   "application/vnd.jupyter.widget-state+json": {
    "state": {},
    "version_major": 2,
    "version_minor": 0
   }
  }
 },
 "nbformat": 4,
 "nbformat_minor": 5
}
