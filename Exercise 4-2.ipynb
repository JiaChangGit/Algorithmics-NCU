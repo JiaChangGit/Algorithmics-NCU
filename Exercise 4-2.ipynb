{
 "cells": [
  {
   "cell_type": "code",
   "execution_count": 1,
   "id": "8f3605a8-c503-4384-a264-9b332487c9f7",
   "metadata": {},
   "outputs": [
    {
     "name": "stderr",
     "output_type": "stream",
     "text": [
      "<frozen importlib._bootstrap>:219: RuntimeWarning: scipy._lib.messagestream.MessageStream size changed, may indicate binary incompatibility. Expected 56 from C header, got 64 from PyObject\n"
     ]
    }
   ],
   "source": [
    "import numpy as np\n",
    "\n",
    "# Importing standard Qiskit libraries\n",
    "from qiskit import QuantumCircuit, transpile, Aer, IBMQ\n",
    "from qiskit.tools.jupyter import *\n",
    "from qiskit.visualization import *\n",
    "from ibm_quantum_widgets import *\n",
    "from qiskit.providers.aer import QasmSimulator\n",
    "\n",
    "# Loading your IBM Quantum account(s)\n",
    "provider = IBMQ.load_account()"
   ]
  },
  {
   "cell_type": "code",
   "execution_count": 5,
   "id": "dba3e66e-c06c-4b95-8e34-1b30ca7ca70d",
   "metadata": {},
   "outputs": [],
   "source": [
    "# Exercise4-2\n",
    "\n",
    "# 設計量子程式建構下列的量子線路，以量子電腦模擬器執行這個線路，以文字模式顯示測量的量子位元狀態出現的次數，並以繪圖模式顯示其直方圖。"
   ]
  },
  {
   "cell_type": "code",
   "execution_count": 4,
   "id": "1cdf844f-193d-42fc-a515-36cff5b87a2e",
   "metadata": {},
   "outputs": [
    {
     "name": "stdout",
     "output_type": "stream",
     "text": [
      "               ┌─┐                     \n",
      "q_0: ──■───────┤M├─────────────────────\n",
      "     ┌─┴─┐     └╥┘┌─┐                  \n",
      "q_1: ┤ X ├──────╫─┤M├──────────────────\n",
      "     ├───┤      ║ └╥┘┌─┐               \n",
      "q_2: ┤ X ├──■───╫──╫─┤M├───────────────\n",
      "     ├───┤┌─┴─┐ ║  ║ └╥┘┌─┐            \n",
      "q_3: ┤ X ├┤ X ├─╫──╫──╫─┤M├────────────\n",
      "     └───┘└───┘ ║  ║  ║ └╥┘┌─┐         \n",
      "q_4: ───────■───╫──╫──╫──╫─┤M├─────────\n",
      "     ┌───┐┌─┴─┐ ║  ║  ║  ║ └╥┘┌─┐      \n",
      "q_5: ┤ X ├┤ X ├─╫──╫──╫──╫──╫─┤M├──────\n",
      "     ├───┤└───┘ ║  ║  ║  ║  ║ └╥┘┌─┐   \n",
      "q_6: ┤ X ├──■───╫──╫──╫──╫──╫──╫─┤M├───\n",
      "     └───┘┌─┴─┐ ║  ║  ║  ║  ║  ║ └╥┘┌─┐\n",
      "q_7: ─────┤ X ├─╫──╫──╫──╫──╫──╫──╫─┤M├\n",
      "          └───┘ ║  ║  ║  ║  ║  ║  ║ └╥┘\n",
      "c: 8/═══════════╩══╩══╩══╩══╩══╩══╩══╩═\n",
      "                0  1  2  3  4  5  6  7 \n",
      "Counts: {'11100100': 1000}\n"
     ]
    },
    {
     "data": {
      "image/png": "[encoded data removed]",
      "text/plain": [
       "<Figure size 504x360 with 1 Axes>"
      ]
     },
     "metadata": {},
     "output_type": "display_data"
    },
    {
     "name": "stdout",
     "output_type": "stream",
     "text": [
      "\n",
      "Quantum State (Total execution time: 1000)\n",
      "|11100100〉: 1000.00%\n"
     ]
    }
   ],
   "source": [
    "from qiskit import QuantumCircuit\n",
    "from qiskit import execute\n",
    "from qiskit.providers.aer import AerSimulator\n",
    "from qiskit.visualization import plot_histogram\n",
    "\n",
    "\n",
    "def showQState(statistic) :\n",
    "    all_state = sorted(statistic.keys())\n",
    "    total_count = sum(statistic.values())\n",
    "    print(\"\\nQuantum State (Total execution time: {})\".format(total_count))\n",
    "    for i in all_state :\n",
    "        print(\"|{}〉: {:.2f}%\".format(i, statistic[i]/total_count*1000))\n",
    "        \n",
    "\n",
    "qc = QuantumCircuit(8,8)\n",
    "qc.cx(0,1)\n",
    "qc.x(2)\n",
    "qc.x(3)\n",
    "qc.x(5)\n",
    "qc.x(6)\n",
    "qc.cx(2,3)\n",
    "qc.cx(4,5)\n",
    "qc.cx(6,7)\n",
    "qc.measure(range(8),range(8))\n",
    "print(qc)\n",
    "\n",
    "sim=AerSimulator()\n",
    "job=execute(qc, backend=sim, shots=1000)\n",
    "result=job.result()\n",
    "counts=result.get_counts(qc)\n",
    "print(\"Counts:\",counts)\n",
    "display(plot_histogram(counts))\n",
    "showQState(counts)"
   ]
  },
  {
   "cell_type": "code",
   "execution_count": null,
   "id": "4416c390-8044-42ac-a871-81cc75d37f09",
   "metadata": {},
   "outputs": [],
   "source": []
  }
 ],
 "metadata": {
  "kernelspec": {
   "display_name": "Qiskit v0.35.0 (ipykernel)",
   "language": "python",
   "name": "python3"
  },
  "language_info": {
   "codemirror_mode": {
    "name": "ipython",
    "version": 3
   },
   "file_extension": ".py",
   "mimetype": "text/x-python",
   "name": "python",
   "nbconvert_exporter": "python",
   "pygments_lexer": "ipython3",
   "version": "3.8.13"
  },
  "widgets": {
   "application/vnd.jupyter.widget-state+json": {
    "state": {},
    "version_major": 2,
    "version_minor": 0
   }
  }
 },
 "nbformat": 4,
 "nbformat_minor": 5
}
