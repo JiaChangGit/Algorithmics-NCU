{
 "cells": [
  {
   "cell_type": "code",
   "execution_count": 2,
   "id": "71af3d2f-b748-4181-a7f1-8bbb1877ca62",
   "metadata": {},
   "outputs": [],
   "source": [
    "import numpy as np\n",
    "\n",
    "# Importing standard Qiskit libraries\n",
    "from qiskit import QuantumCircuit, transpile, Aer, IBMQ\n",
    "from qiskit.tools.jupyter import *\n",
    "from qiskit.visualization import *\n",
    "from ibm_quantum_widgets import *\n",
    "from qiskit.providers.aer import QasmSimulator\n",
    "\n",
    "# Loading your IBM Quantum account(s)\n",
    "provider = IBMQ.load_account()"
   ]
  },
  {
   "cell_type": "code",
   "execution_count": 2,
   "id": "1a69ee49-b724-4d13-88b3-62ad9ebd9239",
   "metadata": {},
   "outputs": [],
   "source": [
    "# Exercise 2-5"
   ]
  },
  {
   "cell_type": "code",
   "execution_count": 4,
   "id": "b3193e0a-3252-4bf5-b563-5ef9f05e7dba",
   "metadata": {},
   "outputs": [
    {
     "name": "stdout",
     "output_type": "stream",
     "text": [
      "     ┌───────────────────────────────────────────────┐┌─┐\n",
      "  q: ┤ Initialize(0.33333+0.66667j,0.57735+0.33333j) ├┤M├\n",
      "     └───────────────────────────────────────────────┘└╥┘\n",
      "c: 1/══════════════════════════════════════════════════╩═\n",
      "                                                       0 \n",
      "Counts: {'0': 566, '1': 434}\n",
      "Job Status: job has successfully run\n",
      "Total counts for qubit states are: {'0': 599, '1': 401}\n"
     ]
    }
   ],
   "source": [
    "from qiskit import QuantumCircuit,execute\n",
    "from qiskit.providers.aer import AerSimulator\n",
    "from qiskit.tools.monitor import job_monitor\n",
    "from qiskit.visualization import plot_histogram\n",
    "import math\n",
    "qc = QuantumCircuit(1,1)\n",
    "qc.initialize([1/3+ 2j/3, math.sqrt(3)/3+ 1j/3],0)\n",
    "qc.measure([0],[0])\n",
    "print(qc)\n",
    "simulator=AerSimulator()\n",
    "job=execute(qc, backend=simulator, shots=1000)\n",
    "result=job.result()\n",
    "counts=result.get_counts(qc)\n",
    "print(\"Counts:\",counts)\n",
    "plot_histogram(counts)\n",
    "\n",
    "provider=IBMQ.get_provider('ibm-q')\n",
    "qcomp=provider.get_backend('ibmq_manila')\n",
    "job=execute(qc, backend=qcomp, shots=1000)\n",
    "job_monitor(job)\n",
    "result = job.result()\n",
    "counts = result.get_counts(qc)\n",
    "print(\"Total counts for qubit states are:\",counts)"
   ]
  },
  {
   "cell_type": "code",
   "execution_count": null,
   "id": "5f757804-cc11-49ff-bdb8-57663ee1d800",
   "metadata": {},
   "outputs": [],
   "source": [
    "\"\"\"\n",
    "上圖顯示: \n",
    "\n",
    "0: 566次(模擬)\n",
    "\n",
    "   599(量子電腦)\n",
    "\n",
    "1: 434次(模擬)\n",
    "\n",
    "   401(量子電腦)\n",
    "可知量子電腦，接近{0: 5/9 (566 V.S 599)} {1: 4/9 (434 V.S 401)}\n",
    "\"\"\""
   ]
  },
  {
   "cell_type": "code",
   "execution_count": null,
   "id": "1f0be541-d624-42c4-a6d4-c628851f242d",
   "metadata": {},
   "outputs": [],
   "source": []
  }
 ],
 "metadata": {
  "kernelspec": {
   "display_name": "Qiskit v0.35.0 (ipykernel)",
   "language": "python",
   "name": "python3"
  },
  "language_info": {
   "codemirror_mode": {
    "name": "ipython",
    "version": 3
   },
   "file_extension": ".py",
   "mimetype": "text/x-python",
   "name": "python",
   "nbconvert_exporter": "python",
   "pygments_lexer": "ipython3",
   "version": "3.8.13"
  },
  "widgets": {
   "application/vnd.jupyter.widget-state+json": {
    "state": {},
    "version_major": 2,
    "version_minor": 0
   }
  }
 },
 "nbformat": 4,
 "nbformat_minor": 5
}
