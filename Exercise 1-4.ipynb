{
 "cells": [
  {
   "cell_type": "code",
   "execution_count": 1,
   "id": "70525a28-e809-4c7e-8d5f-056e31d20115",
   "metadata": {},
   "outputs": [
    {
     "name": "stderr",
     "output_type": "stream",
     "text": [
      "/opt/conda/lib/python3.8/site-packages/numpy/core/getlimits.py:499: UserWarning: The value of the smallest subnormal for <class 'numpy.float64'> type is zero.\n",
      "  setattr(self, word, getattr(machar, word).flat[0])\n",
      "/opt/conda/lib/python3.8/site-packages/numpy/core/getlimits.py:89: UserWarning: The value of the smallest subnormal for <class 'numpy.float64'> type is zero.\n",
      "  return self._float_to_str(self.smallest_subnormal)\n",
      "/opt/conda/lib/python3.8/site-packages/numpy/core/getlimits.py:499: UserWarning: The value of the smallest subnormal for <class 'numpy.float32'> type is zero.\n",
      "  setattr(self, word, getattr(machar, word).flat[0])\n",
      "/opt/conda/lib/python3.8/site-packages/numpy/core/getlimits.py:89: UserWarning: The value of the smallest subnormal for <class 'numpy.float32'> type is zero.\n",
      "  return self._float_to_str(self.smallest_subnormal)\n",
      "<frozen importlib._bootstrap>:219: RuntimeWarning: scipy._lib.messagestream.MessageStream size changed, may indicate binary incompatibility. Expected 56 from C header, got 64 from PyObject\n"
     ]
    }
   ],
   "source": [
    "import numpy as np\n",
    "\n",
    "# Importing standard Qiskit libraries\n",
    "from qiskit import QuantumCircuit, transpile, Aer, IBMQ\n",
    "from qiskit.tools.jupyter import *\n",
    "from qiskit.visualization import *\n",
    "from ibm_quantum_widgets import *\n",
    "from qiskit.providers.aer import QasmSimulator\n",
    "\n",
    "# Loading your IBM Quantum account(s)\n",
    "provider = IBMQ.load_account()"
   ]
  },
  {
   "cell_type": "code",
   "execution_count": null,
   "id": "653718e6-6716-44f8-92e0-8f4aa7779eef",
   "metadata": {},
   "outputs": [],
   "source": [
    "# Exercise 1-4\n",
    "\n",
    "\"\"\"\n",
    "請寫出量子程式用以建構一個包含3個量子位元及3個古典位元的量子線路物件，其中量子位元均進行測量並儲存\n",
    "於古典位元中。以文字模式顯示量子線路，然後使用量子電腦模擬器執行這個量子線路1000次，最後顯示所有量\n",
    "子位元測量出的量子狀態的計數次數。\n",
    "\"\"\""
   ]
  },
  {
   "cell_type": "code",
   "execution_count": 2,
   "id": "58a2f864-2cb3-4347-aa45-248f920b4567",
   "metadata": {},
   "outputs": [
    {
     "name": "stdout",
     "output_type": "stream",
     "text": [
      "     ┌─┐\n",
      "q_0: ┤M├\n",
      "     └╥┘\n",
      "q_1: ─╫─\n",
      "      ║ \n",
      "q_2: ─╫─\n",
      "      ║ \n",
      "c: 3/═╩═\n",
      "      0 \n",
      "Total counts for qubit states are: {'000': 1000}\n"
     ]
    }
   ],
   "source": [
    "from qiskit import QuantumCircuit, execute\n",
    "from qiskit.providers.aer import AerSimulator\n",
    "sim = AerSimulator()\n",
    "qc = QuantumCircuit(3, 3)\n",
    "qc.measure([0], [0])\n",
    "print(qc)\n",
    "job=execute(qc, backend=sim, shots=1000)\n",
    "result = job.result()\n",
    "counts = result.get_counts(qc)\n",
    "print(\"Total counts for qubit states are:\",counts)"
   ]
  },
  {
   "cell_type": "code",
   "execution_count": null,
   "id": "9db17b77-9712-4fc5-bdc8-02045d847908",
   "metadata": {},
   "outputs": [],
   "source": [
    "\"\"\"\n",
    "上圖顯示: \n",
    "\n",
    "000: 1000次\n",
    "\n",
    "001: 0次\n",
    "\"\"\""
   ]
  }
 ],
 "metadata": {
  "kernelspec": {
   "display_name": "Qiskit v0.35.0 (ipykernel)",
   "language": "python",
   "name": "python3"
  },
  "language_info": {
   "codemirror_mode": {
    "name": "ipython",
    "version": 3
   },
   "file_extension": ".py",
   "mimetype": "text/x-python",
   "name": "python",
   "nbconvert_exporter": "python",
   "pygments_lexer": "ipython3",
   "version": "3.8.13"
  },
  "widgets": {
   "application/vnd.jupyter.widget-state+json": {
    "state": {
     "00323e964f02495687c7275b9c2577f6": {
      "model_module": "@jupyter-widgets/controls",
      "model_module_version": "1.5.0",
      "model_name": "DescriptionStyleModel",
      "state": {
       "description_width": ""
      }
     },
     "05aff89d8ea144858f024a3a0f763901": {
      "model_module": "@jupyter-widgets/base",
      "model_module_version": "1.2.0",
      "model_name": "LayoutModel",
      "state": {
       "width": "190px"
      }
     },
     "173a979ca6c649cfbe5e829efb4572f6": {
      "model_module": "@jupyter-widgets/base",
      "model_module_version": "1.2.0",
      "model_name": "LayoutModel",
      "state": {
       "grid_template_areas": "\n                                       \". . . . right \"\n                                        ",
       "grid_template_columns": "20% 20% 20% 20% 20%",
       "width": "100%"
      }
     },
     "2a16ea34836249e5a3a9851f40e428a4": {
      "model_module": "@jupyter-widgets/base",
      "model_module_version": "1.2.0",
      "model_name": "LayoutModel",
      "state": {
       "margin": "0px 0px 10px 0px"
      }
     },
     "36cabb0d34f14932937147c0ba6e636b": {
      "model_module": "@jupyter-widgets/controls",
      "model_module_version": "1.5.0",
      "model_name": "DescriptionStyleModel",
      "state": {
       "description_width": ""
      }
     },
     "3ad727989741414297d17fe76c6ab52c": {
      "model_module": "@jupyter-widgets/controls",
      "model_module_version": "1.5.0",
      "model_name": "DescriptionStyleModel",
      "state": {
       "description_width": ""
      }
     },
     "3e63a1e13abc4c71b34109685753deb9": {
      "model_module": "@jupyter-widgets/controls",
      "model_module_version": "1.5.0",
      "model_name": "HTMLModel",
      "state": {
       "layout": "IPY_MODEL_737748cd10924ee9bae205e1f46bf527",
       "style": "IPY_MODEL_75d8667890644af7bb8f8271069d3814",
       "value": "<h5>Queue</h5>"
      }
     },
     "45c8f6c88c0347ad8208f2e4ef92956d": {
      "model_module": "@jupyter-widgets/controls",
      "model_module_version": "1.5.0",
      "model_name": "HTMLModel",
      "state": {
       "layout": "IPY_MODEL_05aff89d8ea144858f024a3a0f763901",
       "style": "IPY_MODEL_00323e964f02495687c7275b9c2577f6",
       "value": "<h5>Job ID</h5>"
      }
     },
     "53400481df49492f94e1ebcbd19baa90": {
      "model_module": "@jupyter-widgets/controls",
      "model_module_version": "1.5.0",
      "model_name": "DescriptionStyleModel",
      "state": {
       "description_width": ""
      }
     },
     "6b0797a6745147099a66074a30b0f051": {
      "model_module": "@jupyter-widgets/controls",
      "model_module_version": "1.5.0",
      "model_name": "ButtonModel",
      "state": {
       "button_style": "primary",
       "description": "Clear",
       "layout": "IPY_MODEL_d9c29208701b4da2ac921ecc62d8724e",
       "style": "IPY_MODEL_8175d66f07db48daad8f7c8f8ee5a557"
      }
     },
     "737748cd10924ee9bae205e1f46bf527": {
      "model_module": "@jupyter-widgets/base",
      "model_module_version": "1.2.0",
      "model_name": "LayoutModel",
      "state": {
       "width": "70px"
      }
     },
     "75d8667890644af7bb8f8271069d3814": {
      "model_module": "@jupyter-widgets/controls",
      "model_module_version": "1.5.0",
      "model_name": "DescriptionStyleModel",
      "state": {
       "description_width": ""
      }
     },
     "8175d66f07db48daad8f7c8f8ee5a557": {
      "model_module": "@jupyter-widgets/controls",
      "model_module_version": "1.5.0",
      "model_name": "ButtonStyleModel",
      "state": {}
     },
     "b23e4bdd8d434a0c814b92487abadc45": {
      "model_module": "@jupyter-widgets/controls",
      "model_module_version": "1.5.0",
      "model_name": "HTMLModel",
      "state": {
       "layout": "IPY_MODEL_2a16ea34836249e5a3a9851f40e428a4",
       "style": "IPY_MODEL_3ad727989741414297d17fe76c6ab52c",
       "value": "<p style='font-family: IBM Plex Sans, Arial, Helvetica, sans-serif; font-size: 20px; font-weight: medium;'>Circuit Properties</p>"
      }
     },
     "c70bec5f91744b1898fc232d2926d26b": {
      "model_module": "@jupyter-widgets/controls",
      "model_module_version": "1.5.0",
      "model_name": "DescriptionStyleModel",
      "state": {
       "description_width": ""
      }
     },
     "d00d0b66b21b49ca9b57506e0d05d86f": {
      "model_module": "@jupyter-widgets/controls",
      "model_module_version": "1.5.0",
      "model_name": "HBoxModel",
      "state": {
       "children": [
        "IPY_MODEL_45c8f6c88c0347ad8208f2e4ef92956d",
        "IPY_MODEL_e74bc56afda540efa948a22e1b2a97e8",
        "IPY_MODEL_dae9504ccd064b2888bc5181da36c414",
        "IPY_MODEL_3e63a1e13abc4c71b34109685753deb9",
        "IPY_MODEL_f09a97ae32fd407fa4631be508b2c1e0"
       ],
       "layout": "IPY_MODEL_e43b1656e410451ab230b3b9707e188f"
      }
     },
     "d0750883c95a43a2b18ee715be5941bc": {
      "model_module": "@jupyter-widgets/base",
      "model_module_version": "1.2.0",
      "model_name": "LayoutModel",
      "state": {
       "width": "145px"
      }
     },
     "d9c29208701b4da2ac921ecc62d8724e": {
      "model_module": "@jupyter-widgets/base",
      "model_module_version": "1.2.0",
      "model_name": "LayoutModel",
      "state": {
       "grid_area": "right",
       "padding": "0px 0px 0px 0px",
       "width": "70px"
      }
     },
     "dae9504ccd064b2888bc5181da36c414": {
      "model_module": "@jupyter-widgets/controls",
      "model_module_version": "1.5.0",
      "model_name": "HTMLModel",
      "state": {
       "layout": "IPY_MODEL_f4bda9ffc6b242908686079b823ce0e4",
       "style": "IPY_MODEL_36cabb0d34f14932937147c0ba6e636b",
       "value": "<h5>Status</h5>"
      }
     },
     "e43b1656e410451ab230b3b9707e188f": {
      "model_module": "@jupyter-widgets/base",
      "model_module_version": "1.2.0",
      "model_name": "LayoutModel",
      "state": {
       "margin": "0px 0px 0px 37px",
       "width": "600px"
      }
     },
     "e74bc56afda540efa948a22e1b2a97e8": {
      "model_module": "@jupyter-widgets/controls",
      "model_module_version": "1.5.0",
      "model_name": "HTMLModel",
      "state": {
       "layout": "IPY_MODEL_d0750883c95a43a2b18ee715be5941bc",
       "style": "IPY_MODEL_53400481df49492f94e1ebcbd19baa90",
       "value": "<h5>Backend</h5>"
      }
     },
     "ee2e939f660c41d59fb21bc83e3f086e": {
      "model_module": "@jupyter-widgets/controls",
      "model_module_version": "1.5.0",
      "model_name": "GridBoxModel",
      "state": {
       "children": [
        "IPY_MODEL_6b0797a6745147099a66074a30b0f051"
       ],
       "layout": "IPY_MODEL_173a979ca6c649cfbe5e829efb4572f6"
      }
     },
     "f09a97ae32fd407fa4631be508b2c1e0": {
      "model_module": "@jupyter-widgets/controls",
      "model_module_version": "1.5.0",
      "model_name": "HTMLModel",
      "state": {
       "layout": "IPY_MODEL_f45ab37ca9f04f38893af00e96de52c5",
       "style": "IPY_MODEL_c70bec5f91744b1898fc232d2926d26b",
       "value": "<h5>Message</h5>"
      }
     },
     "f45ab37ca9f04f38893af00e96de52c5": {
      "model_module": "@jupyter-widgets/base",
      "model_module_version": "1.2.0",
      "model_name": "LayoutModel",
      "state": {}
     },
     "f4bda9ffc6b242908686079b823ce0e4": {
      "model_module": "@jupyter-widgets/base",
      "model_module_version": "1.2.0",
      "model_name": "LayoutModel",
      "state": {
       "width": "95px"
      }
     }
    },
    "version_major": 2,
    "version_minor": 0
   }
  }
 },
 "nbformat": 4,
 "nbformat_minor": 5
}
